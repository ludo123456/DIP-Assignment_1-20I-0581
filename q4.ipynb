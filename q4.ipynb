{
  "nbformat": 4,
  "nbformat_minor": 0,
  "metadata": {
    "colab": {
      "provenance": []
    },
    "kernelspec": {
      "name": "python3",
      "display_name": "Python 3"
    },
    "language_info": {
      "name": "python"
    }
  },
  "cells": [
    {
      "cell_type": "code",
      "execution_count": 44,
      "metadata": {
        "colab": {
          "base_uri": "https://localhost:8080/",
          "height": 294
        },
        "id": "FB4hINjKfKjE",
        "outputId": "15d4c9d4-8e62-4d7b-b888-dcd8f03e9819"
      },
      "outputs": [
        {
          "output_type": "display_data",
          "data": {
            "text/plain": [
              "<PIL.Image.Image image mode=RGB size=285x277>"
            ],
            "image/png": "[encoded data removed]"
          },
          "metadata": {}
        }
      ],
      "source": [
        "import cv2\n",
        "import numpy as np\n",
        "from google.colab.patches import cv2_imshow\n",
        "\n",
        "def calculate_areas_and_display(image_path):\n",
        "    # Load the image\n",
        "    image = cv2.imread(image_path)\n",
        "\n",
        "    # Define the ROIs (rectangular regions) for each color bar\n",
        "    rois = [\n",
        "        (3, 0, 72, 275),  # Coordinates for the first color bar\n",
        "        (73, 0, 142, 275),  # Coordinates for the second color bar\n",
        "        (143, 0, 212, 275),  # Coordinates for the third color bar\n",
        "        (213, 0, 282, 275)  # Coordinates for the fourth color bar\n",
        "    ]\n",
        "\n",
        "    # Initialize a list to store areas\n",
        "    areas = []\n",
        "\n",
        "    # Loop through each ROI to calculate areas\n",
        "    for i, (x1, y1, x2, y2) in enumerate(rois):\n",
        "        # Crop the image to the ROI\n",
        "        roi_image = image[y1:y2, x1:x2]\n",
        "\n",
        "        # Convert the ROI to grayscale\n",
        "        gray_roi = cv2.cvtColor(roi_image, cv2.COLOR_BGR2GRAY)\n",
        "\n",
        "        # Apply a threshold to create a binary image\n",
        "        _, thresh = cv2.threshold(gray_roi, 128, 255, cv2.THRESH_BINARY)\n",
        "\n",
        "        # Find contours in the binary image\n",
        "        contours, _ = cv2.findContours(thresh, cv2.RETR_EXTERNAL, cv2.CHAIN_APPROX_SIMPLE)\n",
        "\n",
        "        # Calculate the total area of all contours in the ROI\n",
        "        total_area = sum(cv2.contourArea(contour) for contour in contours)\n",
        "\n",
        "        # Append the total area to the areas list\n",
        "        areas.append(total_area)\n",
        "\n",
        "        # Draw a rectangle around the ROI\n",
        "        cv2.rectangle(image, (x1, y1), (x2, y2), (0, 255, 0), 2)\n",
        "\n",
        "        # Display the area at the center of the ROI\n",
        "        area_text = f\"Area {i + 1}: {int(total_area)} pixels\"\n",
        "        text_size = cv2.getTextSize(area_text, cv2.FONT_HERSHEY_SIMPLEX, 0.2, 1)[0]\n",
        "        text_x = x1 + (x2 - x1 - text_size[0]) // 2\n",
        "        text_y = y1 + (y2 - y1 + text_size[1]) // 2\n",
        "        cv2.putText(image, area_text, (text_x, text_y), cv2.FONT_HERSHEY_SIMPLEX, 0.2, (0, 0, 255), 1)\n",
        "\n",
        "    # Display the image with areas marked\n",
        "    cv2_imshow(image)\n",
        "\n",
        "# Test the function with your image\n",
        "image_path = '/content/drive/MyDrive/pics/bar.PNG'  # Provide the path to your image\n",
        "calculate_areas_and_display(image_path)\n"
      ]
    }
  ]
}