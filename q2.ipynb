{
  "nbformat": 4,
  "nbformat_minor": 0,
  "metadata": {
    "colab": {
      "provenance": []
    },
    "kernelspec": {
      "name": "python3",
      "display_name": "Python 3"
    },
    "language_info": {
      "name": "python"
    }
  },
  "cells": [
    {
      "cell_type": "code",
      "execution_count": 6,
      "metadata": {
        "colab": {
          "base_uri": "https://localhost:8080/"
        },
        "id": "FB4hINjKfKjE",
        "outputId": "bbc595aa-989e-4e9f-ac27-42eddfe45328"
      },
      "outputs": [
        {
          "output_type": "stream",
          "name": "stdout",
          "text": [
            "Image 1 is a Girl, Image 2 is a Boy\n"
          ]
        }
      ],
      "source": [
        "import cv2\n",
        "import numpy as np\n",
        "\n",
        "def distinguish_gender_by_hairstyle(image1_path, image2_path):\n",
        "    # Load the two images\n",
        "    image1 = cv2.imread(image1_path)\n",
        "    image2 = cv2.imread(image2_path)\n",
        "\n",
        "    # Convert the images to grayscale\n",
        "    gray1 = cv2.cvtColor(image1, cv2.COLOR_BGR2GRAY)\n",
        "    gray2 = cv2.cvtColor(image2, cv2.COLOR_BGR2GRAY)\n",
        "\n",
        "    # Apply a Gaussian blur to reduce noise\n",
        "    blurred1 = cv2.GaussianBlur(gray1, (5, 5), 0)\n",
        "    blurred2 = cv2.GaussianBlur(gray2, (5, 5), 0)\n",
        "\n",
        "    # Threshold the images to create binary masks for hair\n",
        "    _, thresh1 = cv2.threshold(blurred1, 150, 255, cv2.THRESH_BINARY)\n",
        "    _, thresh2 = cv2.threshold(blurred2, 150, 255, cv2.THRESH_BINARY)\n",
        "\n",
        "    # Find contours in the binary hair masks\n",
        "    contours1, _ = cv2.findContours(thresh1, cv2.RETR_EXTERNAL, cv2.CHAIN_APPROX_SIMPLE)\n",
        "    contours2, _ = cv2.findContours(thresh2, cv2.RETR_EXTERNAL, cv2.CHAIN_APPROX_SIMPLE)\n",
        "\n",
        "    # Calculate the areas of the hair regions\n",
        "    hair_area1 = 0\n",
        "    hair_area2 = 0\n",
        "\n",
        "    for contour in contours1:\n",
        "        hair_area1 += cv2.contourArea(contour)\n",
        "\n",
        "    for contour in contours2:\n",
        "        hair_area2 += cv2.contourArea(contour)\n",
        "\n",
        "    # Determine which image is a boy and which is a girl based on relative hair area\n",
        "    if hair_area1 < hair_area2:\n",
        "        return \"Image 1 is a Boy, Image 2 is a Girl\"\n",
        "    else:\n",
        "        return \"Image 1 is a Girl, Image 2 is a Boy\"\n",
        "\n",
        "# Test the function with your two images\n",
        "image1_path = '/content/drive/MyDrive/pics/girl.PNG'  # Provide the path to the boy image\n",
        "image2_path = '/content/drive/MyDrive/pics/boy.PNG'  # Provide the path to the girl image\n",
        "\n",
        "result = distinguish_gender_by_hairstyle(image1_path, image2_path)\n",
        "print(result)\n",
        "\n"
      ]
    }
  ]
}