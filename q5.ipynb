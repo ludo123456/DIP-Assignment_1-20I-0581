{
  "nbformat": 4,
  "nbformat_minor": 0,
  "metadata": {
    "colab": {
      "provenance": []
    },
    "kernelspec": {
      "name": "python3",
      "display_name": "Python 3"
    },
    "language_info": {
      "name": "python"
    }
  },
  "cells": [
    {
      "cell_type": "code",
      "execution_count": 97,
      "metadata": {
        "colab": {
          "base_uri": "https://localhost:8080/",
          "height": 386
        },
        "id": "FB4hINjKfKjE",
        "outputId": "8aeaaaa7-5099-4da5-b965-22a4722f905f"
      },
      "outputs": [
        {
          "output_type": "display_data",
          "data": {
            "text/plain": [
              "<PIL.Image.Image image mode=RGB size=288x282>"
            ],
            "image/png": "[encoded data removed]"
          },
          "metadata": {}
        },
        {
          "output_type": "stream",
          "name": "stdout",
          "text": [
            "Percentage Areas of Color Bars:\n",
            "Yellow: 9.78%\n",
            "Light Gray: 19.27%\n",
            "Gray: 26.13%\n",
            "Dark Gray: 6.08%\n"
          ]
        }
      ],
      "source": [
        "import cv2\n",
        "import numpy as np\n",
        "from google.colab.patches import cv2_imshow\n",
        "\n",
        "def calculate_percentage_area_of_color_bars(image_path, y_threshold=150):\n",
        "    # Load the image\n",
        "    image = cv2.imread(image_path)\n",
        "\n",
        "    # Define the ROIs (rectangular regions) for each color bar\n",
        "    rois = [\n",
        "        (3, 0, 72, 275),  # Coordinates for the first color bar\n",
        "        (73, 0, 142, 275),  # Coordinates for the second color bar\n",
        "        (143, 0, 212, 275),  # Coordinates for the third color bar\n",
        "        (213, 0, 282, 275)  # Coordinates for the fourth color bar\n",
        "    ]\n",
        "\n",
        "    # Define separate ROIs for the rectangular and triangular parts of the arrow\n",
        "    rectangular_arrow_roi = [(35, 106), (148, 106), (148, 162), (35, 162)]\n",
        "    triangular_arrow_roi = [(148, 79), (148, 189), (265, 133)]\n",
        "\n",
        "    # Initialize a list to store percentage areas\n",
        "    percentage_areas = []\n",
        "\n",
        "    # Draw the highlighted arrow (rectangular part) on the image\n",
        "    cv2.polylines(image, [np.array(rectangular_arrow_roi)], isClosed=True, color=(0, 255, 0), thickness=2)\n",
        "\n",
        "    # Draw the highlighted arrow (triangular part) on the image\n",
        "    cv2.polylines(image, [np.array(triangular_arrow_roi)], isClosed=True, color=(0, 255, 0), thickness=2)\n",
        "\n",
        "    # Display the original image with the highlighted arrow in Colab\n",
        "    cv2_imshow(image)\n",
        "\n",
        "    # Loop through each ROI to calculate areas\n",
        "    for i, (x1, y1, x2, y2) in enumerate(rois):\n",
        "        # Extract the region of interest (color bar)\n",
        "        roi = image[y1:y2, x1:x2]\n",
        "\n",
        "        # Calculate the area of the color bar\n",
        "        color_bar_area = (x2 - x1) * (y2 - y1)\n",
        "\n",
        "        # Convert the color bar to the LAB color space\n",
        "        lab_color_bar = cv2.cvtColor(roi, cv2.COLOR_BGR2LAB)\n",
        "\n",
        "        # Split the LAB channels\n",
        "        l_channel, _, _ = cv2.split(lab_color_bar)\n",
        "\n",
        "        # Calculate the Y channel (brightness) using the L channel\n",
        "        y_channel = l_channel\n",
        "\n",
        "        # Create a mask for pixels with Y values below the threshold\n",
        "        below_threshold_mask = (y_channel < y_threshold).astype(np.uint8)\n",
        "\n",
        "        # Calculate the area by counting the number of pixels below the threshold\n",
        "        pixel_count = np.sum(below_threshold_mask)\n",
        "\n",
        "        # Calculate the percentage area of the color bar\n",
        "        percentage_area = (pixel_count / color_bar_area) * 100\n",
        "\n",
        "        # Append the percentage area to the list\n",
        "        percentage_areas.append(percentage_area)\n",
        "\n",
        "    return percentage_areas\n",
        "\n",
        "# Test the function with your image and threshold\n",
        "image_path = '/content/drive/MyDrive/pics/bararrow.PNG'  # Provide the path to your image\n",
        "y_threshold = 150  # Adjust the threshold as needed\n",
        "percentage_areas = calculate_percentage_area_of_color_bars(image_path, y_threshold)\n",
        "\n",
        "# Define color names for the bars\n",
        "color_names = [\"Yellow\", \"Light Gray\", \"Gray\", \"Dark Gray\"]\n",
        "\n",
        "# Print the percentage areas for all color bars\n",
        "print(\"Percentage Areas of Color Bars:\")\n",
        "for i, percentage_area in enumerate(percentage_areas):\n",
        "    print(f\"{color_names[i]}: {percentage_area:.2f}%\")\n"
      ]
    }
  ]
}