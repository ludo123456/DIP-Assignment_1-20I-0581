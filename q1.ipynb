{
  "nbformat": 4,
  "nbformat_minor": 0,
  "metadata": {
    "colab": {
      "provenance": []
    },
    "kernelspec": {
      "name": "python3",
      "display_name": "Python 3"
    },
    "language_info": {
      "name": "python"
    }
  },
  "cells": [
    {
      "cell_type": "code",
      "execution_count": 3,
      "metadata": {
        "colab": {
          "base_uri": "https://localhost:8080/",
          "height": 277
        },
        "id": "FB4hINjKfKjE",
        "outputId": "fafd04b1-b566-4d3e-8a4b-9b2f9c3b647c"
      },
      "outputs": [
        {
          "output_type": "stream",
          "name": "stdout",
          "text": [
            "Perimeter: 391.36247873306274\n",
            "Centroid: (112, 112)\n"
          ]
        },
        {
          "output_type": "display_data",
          "data": {
            "text/plain": [
              "<PIL.Image.Image image mode=RGB size=225x225>"
            ],
            "image/png": "[encoded data removed]"
          },
          "metadata": {}
        }
      ],
      "source": [
        "import cv2\n",
        "import numpy as np\n",
        "from google.colab.patches import cv2_imshow  # Import cv2_imshow for Colab\n",
        "\n",
        "# Load the image\n",
        "image = cv2.imread('/content/drive/MyDrive/pics/im.png')\n",
        "\n",
        "# Convert the image to grayscale\n",
        "gray = cv2.cvtColor(image, cv2.COLOR_BGR2GRAY)\n",
        "\n",
        "# Apply a threshold to create a binary image\n",
        "_, thresh = cv2.threshold(gray, 1, 255, cv2.THRESH_BINARY)\n",
        "\n",
        "# Find contours in the binary image\n",
        "contours, _ = cv2.findContours(thresh, cv2.RETR_EXTERNAL, cv2.CHAIN_APPROX_SIMPLE)\n",
        "\n",
        "# Loop through the contours to find rectangles or squares\n",
        "for contour in contours:\n",
        "    # Approximate the contour with a polygon\n",
        "    epsilon = 0.04 * cv2.arcLength(contour, True)\n",
        "    approx = cv2.approxPolyDP(contour, epsilon, True)\n",
        "\n",
        "    # If the polygon has 4 vertices, it's likely a rectangle or square\n",
        "    if len(approx) == 4:\n",
        "        # Calculate the parameters (perimeter and centroid)\n",
        "        perimeter = cv2.arcLength(contour, True)\n",
        "        M = cv2.moments(contour)\n",
        "        if M[\"m00\"] != 0:\n",
        "            centroid_x = int(M[\"m10\"] / M[\"m00\"])\n",
        "            centroid_y = int(M[\"m01\"] / M[\"m00\"])\n",
        "        else:\n",
        "            centroid_x, centroid_y = 0, 0\n",
        "\n",
        "        # Display the parameters and centroid\n",
        "        print(f\"Perimeter: {perimeter}\")\n",
        "        print(f\"Centroid: ({centroid_x}, {centroid_y})\")\n",
        "\n",
        "        # Draw the contour on the original image\n",
        "        cv2.drawContours(image, [approx], 0, (0, 255, 255), 2)\n",
        "\n",
        "# Display the image with contours using cv2_imshow\n",
        "cv2_imshow(image)\n",
        "\n"
      ]
    }
  ]
}