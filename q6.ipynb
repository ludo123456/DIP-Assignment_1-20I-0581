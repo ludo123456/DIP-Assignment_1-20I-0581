{
  "nbformat": 4,
  "nbformat_minor": 0,
  "metadata": {
    "colab": {
      "provenance": [],
      "toc_visible": true
    },
    "kernelspec": {
      "name": "python3",
      "display_name": "Python 3"
    },
    "language_info": {
      "name": "python"
    }
  },
  "cells": [
    {
      "cell_type": "code",
      "execution_count": null,
      "metadata": {
        "colab": {
          "base_uri": "https://localhost:8080/"
        },
        "id": "FB4hINjKfKjE",
        "outputId": "bc00e7d3-1649-4ef2-92dc-7bf9d137c02a"
      },
      "outputs": [
        {
          "output_type": "stream",
          "name": "stdout",
          "text": [
            "Saved yellow_bone3.jpg\n",
            "Saved blue_purple_bone3.jpg\n",
            "Saved greenish_bone3.jpg\n",
            "Saved brown_bone3.jpg\n",
            "Saved light_blue_cyan_bone3.jpg\n",
            "Saved cyan_bone3.jpg\n",
            "Saved brownish_bone3.jpg\n"
          ]
        }
      ],
      "source": [
        "import cv2\n",
        "import numpy as np\n",
        "\n",
        "def classify_bones_by_color(image_path):\n",
        "    # Load the image\n",
        "    image = cv2.imread(image_path)\n",
        "\n",
        "    # Convert the image to the HSV color space\n",
        "    hsv_image = cv2.cvtColor(image, cv2.COLOR_BGR2HSV)\n",
        "\n",
        "    # Define HSV color ranges for each bone\n",
        "    # Modify these values based on your specific color characteristics\n",
        "    color_ranges = {\n",
        "        'yellow': ((20, 100, 100), (30, 255, 255)),\n",
        "        'blue_purple': ((110, 100, 100), (130, 255, 255)),\n",
        "        'greenish': ((35, 50, 50), (85, 255, 255)),\n",
        "        'brown': ((0, 50, 50), (30, 255, 150)),\n",
        "        'light_blue_cyan': ((80, 50, 50), (100, 255, 255)),\n",
        "\n",
        "    }\n",
        "\n",
        "    # Create and classify bones\n",
        "    classified_bones = {}\n",
        "    for bone_name, color_range in color_ranges.items():\n",
        "        bone_mask = cv2.inRange(hsv_image, *color_range)\n",
        "        classified_bones[bone_name] = cv2.bitwise_and(image, image, mask=bone_mask)\n",
        "\n",
        "    # Save or display the bone images\n",
        "    for bone_name, bone_image in classified_bones.items():\n",
        "        bone_filename = f\"{bone_name}_bone4.jpg\"\n",
        "        cv2.imwrite(bone_filename, bone_image)\n",
        "        print(f\"Saved {bone_filename}\")\n",
        "\n",
        "# Test the function with your image\n",
        "image_path = '/content/drive/MyDrive/pics/bone.PNG'  # Provide the path to your image\n",
        "classify_bones_by_color(image_path)\n"
      ]
    }
  ]
}