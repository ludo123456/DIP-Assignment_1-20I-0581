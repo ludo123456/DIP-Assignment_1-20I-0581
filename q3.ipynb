{
  "nbformat": 4,
  "nbformat_minor": 0,
  "metadata": {
    "colab": {
      "provenance": []
    },
    "kernelspec": {
      "name": "python3",
      "display_name": "Python 3"
    },
    "language_info": {
      "name": "python"
    }
  },
  "cells": [
    {
      "cell_type": "code",
      "execution_count": 24,
      "metadata": {
        "colab": {
          "base_uri": "https://localhost:8080/"
        },
        "id": "FB4hINjKfKjE",
        "outputId": "195a499c-6212-4ff0-daee-af584642873c"
      },
      "outputs": [
        {
          "output_type": "stream",
          "name": "stdout",
          "text": [
            "Image 1 is clear, Image 2 is blurred\n"
          ]
        }
      ],
      "source": [
        "import cv2\n",
        "import numpy as np\n",
        "\n",
        "def distinguish_clear_blur(image1_path, image2_path, threshold=500):\n",
        "    # Load the two images\n",
        "    image1 = cv2.imread(image1_path)\n",
        "    image2 = cv2.imread(image2_path)\n",
        "\n",
        "    # Convert the images to grayscale\n",
        "    gray1 = cv2.cvtColor(image1, cv2.COLOR_BGR2GRAY)\n",
        "    gray2 = cv2.cvtColor(image2, cv2.COLOR_BGR2GRAY)\n",
        "\n",
        "    # Calculate the Laplacian variance as a measure of sharpness\n",
        "    laplacian_var1 = cv2.Laplacian(gray1, cv2.CV_64F).var()\n",
        "    laplacian_var2 = cv2.Laplacian(gray2, cv2.CV_64F).var()\n",
        "\n",
        "    # Determine which image is clear and which is blurred\n",
        "    if laplacian_var1 > threshold and laplacian_var2 > threshold:\n",
        "        return \"Both images are clear\"\n",
        "    elif laplacian_var1 <= threshold and laplacian_var2 <= threshold:\n",
        "        return \"Both images are blurred\"\n",
        "    elif laplacian_var1 > threshold:\n",
        "        return \"Image 1 is clear, Image 2 is blurred\"\n",
        "    else:\n",
        "        return \"Image 1 is blurred, Image 2 is clear\"\n",
        "\n",
        "# Test the function with two images\n",
        "image1_path = '/content/drive/MyDrive/pics/clear.PNG'  # Provide the path to the clear image\n",
        "image2_path = '/content/drive/MyDrive/pics/blur.PNG'  # Provide the path to the blurry image\n",
        "\n",
        "result = distinguish_clear_blur(image1_path, image2_path)\n",
        "print(result)\n"
      ]
    }
  ]
}